{
  "nbformat": 4,
  "nbformat_minor": 0,
  "metadata": {
    "colab": {
      "name": "Copy of Untitled1.ipynb",
      "provenance": [],
      "collapsed_sections": [],
      "authorship_tag": "ABX9TyOF9BV1wR6uac2Jo6Kln4m+",
      "include_colab_link": true
    },
    "kernelspec": {
      "name": "python3",
      "display_name": "Python 3"
    }
  },
  "cells": [
    {
      "cell_type": "markdown",
      "metadata": {
        "id": "view-in-github",
        "colab_type": "text"
      },
      "source": [
        "<a href=\"https://colab.research.google.com/github/brittdecker/Probability/blob/master/CommunicationsExample.ipynb\" target=\"_parent\"><img src=\"https://colab.research.google.com/assets/colab-badge.svg\" alt=\"Open In Colab\"/></a>"
      ]
    },
    {
      "cell_type": "markdown",
      "metadata": {
        "id": "jRI9W8___zkO"
      },
      "source": [
        "\n",
        "Brittany Decker\n",
        "\n",
        "Homework 3\n",
        "\n",
        "7.* A communications system transmits binary coded random signalsXwith amplitude±Awith the probabilities of the two symbols beingPr[X=A] =pandPr[X=−A] = 1−p.\n"
      ]
    },
    {
      "cell_type": "code",
      "metadata": {
        "id": "W0hwwOj_FvYR",
        "outputId": "9daad1ba-fbed-4b8e-bb1c-709d4390d8ee",
        "colab": {
          "base_uri": "https://localhost:8080/",
          "height": 349
        }
      },
      "source": [
        "import numpy as np\n",
        "import matplotlib.pyplot as plt \n",
        "from scipy import stats\n",
        "import math\n",
        "from scipy.stats import rv_discrete\n",
        "\n",
        "\n",
        "# Set up the baseline assumptions\n",
        "Symbols = (1, -1)\n",
        "p = 0.6\n",
        "P_A = 0.6\n",
        "P_mA = 1 - P_A\n",
        "\n",
        "print('Probability of A: ', P_A)\n",
        "print('Probability of -A: ', P_mA)\n",
        "\n",
        "# A sample of output signals X\n",
        "probabilities = (P_A,P_mA)\n",
        "bits = rv_discrete(values=(Symbols,probabilities))\n",
        "X = bits.rvs(size=10000)\n",
        "\n",
        "TX_A = 0\n",
        "TX_mA = 0\n",
        "\n",
        "for sample in X:\n",
        "  if sample > 0:\n",
        "    TX_A += 1\n",
        "  else:\n",
        "    TX_mA += 1\n",
        "\n",
        "print(TX_A)\n",
        "print(TX_mA)\n",
        "\n",
        "\n",
        "#displaying setup\n",
        "fig, ax = plt.subplots(1,1)\n",
        "ax.plot(Symbols,bits.pmf(Symbols),'r*')\n",
        "ax.vlines(Symbols,ymin=0,ymax=bits.pmf(Symbols),lw=2)\n",
        "plt.title('Symbol PMF',loc='center')\n",
        "plt.show()\n",
        "\n"
      ],
      "execution_count": 19,
      "outputs": [
        {
          "output_type": "stream",
          "text": [
            "Probability of A:  0.6\n",
            "Probability of -A:  0.4\n",
            "6123\n",
            "3877\n"
          ],
          "name": "stdout"
        },
        {
          "output_type": "display_data",
          "data": {
            "image/png": "[encoded data removed]",
            "text/plain": [
              "<Figure size 432x288 with 1 Axes>"
            ]
          },
          "metadata": {
            "tags": [],
            "needs_background": "light"
          }
        }
      ]
    },
    {
      "cell_type": "markdown",
      "metadata": {
        "id": "HyDfMRBy_xRJ"
      },
      "source": [
        "The channel induces additive noise that is modeled by a Gaussian random variableYwitha pdfN(0,σ2y). The received variable isZ=X+Y.\n",
        "\n",
        "(a) Simulate the received signalZand estimate its probability density function f[Z(z)] .\n",
        "\n",
        "(b) Derive the exact pdf of Z. [ You will need to do some research for this ]\n",
        "\n"
      ]
    },
    {
      "cell_type": "code",
      "metadata": {
        "id": "WrtP3ZUU4Utd",
        "outputId": "bd3df8b0-2053-4f6d-cce6-8356b08a1daf",
        "colab": {
          "base_uri": "https://localhost:8080/",
          "height": 265
        }
      },
      "source": [
        "# Create Noise\n",
        "Y_1 = stats.norm(-1, 1) # Declare A to be a normal random variable\n",
        "Y_2 = stats.norm(1, 1) # Declare A to be a normal random variable\n",
        "\n",
        "SNR_set = 0.0\n",
        "\n",
        "Y_A = Y_2.rvs(size=10000)\n",
        "Y_mA = Y_1.rvs(size=10000)\n",
        "\n",
        "x = np.linspace(-4,4,1000)\n",
        "plt.plot(x, Y_1.pdf(x))\n",
        "plt.plot(x, Y_2.pdf(x))\n",
        "\n",
        "def Calc_Z(SNR, X):\n",
        "  N_o = 1/((pow(10.0,(SNR/10.0))))\n",
        "  AWGN = stats.norm(0, N_o)\n",
        "\n",
        "  Y = AWGN.rvs(size=10000)\n",
        "\n",
        "\n",
        "  # PDF of Z\n",
        "  Z = np.add(X,Y)\n",
        "\n",
        "  return Z\n",
        "\n",
        "\n",
        "\n",
        "\n"
      ],
      "execution_count": 33,
      "outputs": [
        {
          "output_type": "display_data",
          "data": {
            "image/png": "[encoded data removed]",
            "text/plain": [
              "<Figure size 432x288 with 1 Axes>"
            ]
          },
          "metadata": {
            "tags": [],
            "needs_background": "light"
          }
        }
      ]
    },
    {
      "cell_type": "code",
      "metadata": {
        "id": "zlEQBeQ1pXoo"
      },
      "source": [
        "from google.colab import drive\n",
        "drive.mount('/content/drive')"
      ],
      "execution_count": null,
      "outputs": []
    },
    {
      "cell_type": "markdown",
      "metadata": {
        "id": "I1K6N4qOU3Ng"
      },
      "source": [
        "(c) The receiver has to decode if a +A or −A was transmitted. This requires that one calcu-late the posterior probabilitiesP[A|z] andP[−A|z]. Find the decision rule that minimizes the probability of error in the decoding process. Use the signal to noise ratio (SNR)EbN0asa control parameter whereEbis the energy per symbol or bit duration andN0is the noisespectral density that is a function of the varianceσ2y.\n"
      ]
    },
    {
      "cell_type": "code",
      "metadata": {
        "id": "k01oVEA_Aa3n",
        "outputId": "7c352764-9193-42af-c8a4-9c7465f66837",
        "colab": {
          "base_uri": "https://localhost:8080/",
          "height": 1000
        }
      },
      "source": [
        "PA_post = (Y_A * P_A)/Z\n",
        "PmA_post = (Y_mA * P_mA)/Z\n",
        "\n",
        "Zth = (1-p)/p\n",
        "num_A = 0\n",
        "num_mA = 0\n",
        "errors = []\n",
        "SNRval = []\n",
        "\n",
        "for SNR in range(11):\n",
        "  num_A = 0\n",
        "  num_mA = 0\n",
        "  Z = Calc_Z(SNR, X)\n",
        "  plt.hist(Z, bins = 25, density=True, histtype='stepfilled', alpha=0.1)\n",
        "  for sample in Z:\n",
        "    if sample > Zth:\n",
        "      num_A += 1\n",
        "    else:\n",
        "      num_mA += 1\n",
        "  BER_A = TX_A - num_A\n",
        "  SNRval.append(SNR)\n",
        "  errors.append(BER_A)\n",
        "    \n",
        "\n",
        "print(errors)\n",
        "print(BER_A)\n",
        "\n",
        "\n",
        "\n",
        "#plt.hist(Y_A, bins = 25, density=True, histtype='stepfilled', alpha=0.1)\n",
        "#plt.hist(Y_mA, bins = 25, density=True, histtype='stepfilled', alpha=0.1)\n",
        "#plt.hist(Z, bins = 25, density=True, histtype='stepfilled', alpha=0.1)\n",
        "#plt.hist(PA_post, bins = 2, density=True, histtype='stepfilled', alpha=0.5)\n",
        "#plt.hist(PmA_post, bins = 2, density=True, histtype='stepfilled', alpha=0.5)"
      ],
      "execution_count": 44,
      "outputs": [
        {
          "output_type": "stream",
          "text": [
            "SNR:  0\n",
            "TX_A:  6123\n",
            "RX_A:  4051\n",
            "TX mA: 3877\n",
            "RX_mA:  5949\n",
            "SNR:  1\n",
            "TX_A:  6123\n",
            "RX_A:  4162\n",
            "TX mA: 3877\n",
            "RX_mA:  5838\n",
            "SNR:  2\n",
            "TX_A:  6123\n",
            "RX_A:  4292\n",
            "TX mA: 3877\n",
            "RX_mA:  5708\n",
            "SNR:  3\n",
            "TX_A:  6123\n",
            "RX_A:  4631\n",
            "TX mA: 3877\n",
            "RX_mA:  5369\n",
            "SNR:  4\n",
            "TX_A:  6123\n",
            "RX_A:  4931\n",
            "TX mA: 3877\n",
            "RX_mA:  5069\n",
            "SNR:  5\n",
            "TX_A:  6123\n",
            "RX_A:  5224\n",
            "TX mA: 3877\n",
            "RX_mA:  4776\n",
            "SNR:  6\n",
            "TX_A:  6123\n",
            "RX_A:  5586\n",
            "TX mA: 3877\n",
            "RX_mA:  4414\n",
            "SNR:  7\n",
            "TX_A:  6123\n",
            "RX_A:  5833\n",
            "TX mA: 3877\n",
            "RX_mA:  4167\n",
            "SNR:  8\n",
            "TX_A:  6123\n",
            "RX_A:  6032\n",
            "TX mA: 3877\n",
            "RX_mA:  3968\n",
            "SNR:  9\n",
            "TX_A:  6123\n",
            "RX_A:  6097\n",
            "TX mA: 3877\n",
            "RX_mA:  3903\n",
            "SNR:  10\n",
            "TX_A:  6123\n",
            "RX_A:  6117\n",
            "TX mA: 3877\n",
            "RX_mA:  3883\n",
            "[2072, 1961, 1831, 1492, 1192, 899, 537, 290, 91, 26, 6]\n",
            "6\n"
          ],
          "name": "stdout"
        },
        {
          "output_type": "display_data",
          "data": {
            "image/png": "[encoded data removed]",
            "text/plain": [
              "<Figure size 432x288 with 1 Axes>"
            ]
          },
          "metadata": {
            "tags": [],
            "needs_background": "light"
          }
        }
      ]
    },
    {
      "cell_type": "markdown",
      "metadata": {
        "id": "HHZIWvvoNlnV"
      },
      "source": [
        "\n",
        "(d) Plot the simulated bit error rate as a function of SNR varying from 0 to 10 decibels."
      ]
    },
    {
      "cell_type": "code",
      "metadata": {
        "id": "xx33GD7BNmrk",
        "outputId": "81b1c77c-08ea-4f54-e72a-652991476d6e",
        "colab": {
          "base_uri": "https://localhost:8080/",
          "height": 282
        }
      },
      "source": [
        "plt.plot(SNRval,errors)"
      ],
      "execution_count": 45,
      "outputs": [
        {
          "output_type": "execute_result",
          "data": {
            "text/plain": [
              "[<matplotlib.lines.Line2D at 0x7f71b2194da0>]"
            ]
          },
          "metadata": {
            "tags": []
          },
          "execution_count": 45
        },
        {
          "output_type": "display_data",
          "data": {
            "image/png": "[encoded data removed]",
            "text/plain": [
              "<Figure size 432x288 with 1 Axes>"
            ]
          },
          "metadata": {
            "tags": [],
            "needs_background": "light"
          }
        }
      ]
    }
  ]
}