{
  "nbformat": 4,
  "nbformat_minor": 0,
  "metadata": {
    "colab": {
      "name": "Untitled1.ipynb",
      "provenance": [],
      "collapsed_sections": [],
      "authorship_tag": "ABX9TyMd9K8civEXEcRgHlW8Tgjs",
      "include_colab_link": true
    },
    "kernelspec": {
      "name": "python3",
      "display_name": "Python 3"
    }
  },
  "cells": [
    {
      "cell_type": "markdown",
      "metadata": {
        "id": "view-in-github",
        "colab_type": "text"
      },
      "source": [
        "<a href=\"https://colab.research.google.com/github/brittdecker/Probability/blob/master/Exam1.ipynb\" target=\"_parent\"><img src=\"https://colab.research.google.com/assets/colab-badge.svg\" alt=\"Open In Colab\"/></a>"
      ]
    },
    {
      "cell_type": "markdown",
      "metadata": {
        "id": "jRI9W8___zkO"
      },
      "source": [
        "\n",
        "Brittany Decker\n",
        "\n",
        "Exam 1\n",
        "\n",
        "2. In this problem you are asked to simulate the transformationI=V/R by generating the random variables representing R and computing the corresponding values of I using the information given in Problem 1.  Using a sufficient numberof trials, estimate the pdf and cdf of I from the simulated random variables.  Plotboth functions in separate plots and overlay the theoretical results you have found in  Problem  1.   Explain  any  differences  you  observe  between  your  theory  (from Problem 1) and the simulated results in this problem.\n",
        "\n",
        "\n",
        "The uniform random variable generated in the simulation exactly matches the theoretical result from problem 1. However, the delta function amplitude does not match. I do not find the simulation to make sense over the theoretical result, since the probabilities depicted in the PDF should all sum to 1. The simulated amplitude of just over 5 therefore does not make sense. \n",
        "\n"
      ]
    },
    {
      "cell_type": "code",
      "metadata": {
        "id": "W0hwwOj_FvYR",
        "outputId": "3f600881-b864-41ab-a127-be49faf4505a",
        "colab": {
          "base_uri": "https://localhost:8080/",
          "height": 729
        }
      },
      "source": [
        "import numpy as np\n",
        "import matplotlib.pyplot as plt \n",
        "from scipy import stats\n",
        "import math\n",
        "from scipy.stats import rv_discrete\n",
        "\n",
        "\n",
        "# Set up the baseline assumptions\n",
        "R = stats.uniform(6,2)\n",
        "V = 6.0\n",
        "\n",
        "samplesize = 100000\n",
        "\n",
        "\n",
        "x = np.linspace(3,9,100)\n",
        "\n",
        "fig1, ax1 = plt.subplots()\n",
        "ax1.set_title(\"PDF\")\n",
        "ax1.set_xlabel(\"x\")\n",
        "ax1.set_ylabel(\"px(x)\")\n",
        "\n",
        "#ax1.plot(x, R.pdf(x))\n",
        "fig2, ax2 = plt.subplots()\n",
        "ax2.set_title(\"CDF\")\n",
        "ax2.set_xlabel(\"x\")\n",
        "ax2.set_ylabel(\"Fx(x)\")\n",
        "\n",
        "ax2.plot(x, 6.0/R.pdf(x))\n",
        "\n",
        "\n",
        "Rsamp = R.rvs(samplesize)\n",
        "\n",
        "Ialt = 6.0 / R.rvs(samplesize)\n",
        "\n",
        "I = V / Rsamp\n",
        "\n",
        "print(type(Rsamp))\n",
        "\n",
        "#ax1.hist(Rsamp, bins = 25, density=True, histtype='stepfilled', alpha=0.1)\n",
        "\n",
        "ax1.hist(Ialt, bins = 10, density=True, histtype='stepfilled', alpha=0.1)\n"
      ],
      "execution_count": 2,
      "outputs": [
        {
          "output_type": "stream",
          "text": [
            "<class 'numpy.ndarray'>\n"
          ],
          "name": "stdout"
        },
        {
          "output_type": "stream",
          "text": [
            "/usr/local/lib/python3.6/dist-packages/ipykernel_launcher.py:28: RuntimeWarning: divide by zero encountered in true_divide\n"
          ],
          "name": "stderr"
        },
        {
          "output_type": "execute_result",
          "data": {
            "text/plain": [
              "(array([5.2356543 , 4.85365034, 4.4928466 , 4.2516441 , 4.01324163,\n",
              "        3.80723949, 3.62243757, 3.4036353 , 3.23843359, 3.08163196]),\n",
              " array([0.7500008 , 0.77500054, 0.80000028, 0.82500002, 0.84999976,\n",
              "        0.8749995 , 0.89999924, 0.92499898, 0.94999872, 0.97499846,\n",
              "        0.99999821]),\n",
              " <a list of 1 Patch objects>)"
            ]
          },
          "metadata": {
            "tags": []
          },
          "execution_count": 2
        },
        {
          "output_type": "display_data",
          "data": {
            "image/png": "[encoded data removed]",
            "text/plain": [
              "<Figure size 432x288 with 1 Axes>"
            ]
          },
          "metadata": {
            "tags": [],
            "needs_background": "light"
          }
        },
        {
          "output_type": "display_data",
          "data": {
            "image/png": "[encoded data removed]",
            "text/plain": [
              "<Figure size 432x288 with 1 Axes>"
            ]
          },
          "metadata": {
            "tags": [],
            "needs_background": "light"
          }
        }
      ]
    },
    {
      "cell_type": "markdown",
      "metadata": {
        "id": "jC_5ForCca5M"
      },
      "source": [
        "Number 6: Verify your answers to problem 5 by simulating the random variables in theproblem and computing the answers for 5(a) and 5(b).  Clearly state the design ofyour algorithm\n",
        "\n",
        "The algorithm works using the following steps:\n",
        "\n",
        "1) Create a discrete random variable using 1, 2, 3 as symbols to represent A, B, C respectively with probabilities 0.5, 0.4, 0.1 respectively.\n",
        "\n",
        "2) Count the number of A, B and C values generated for the sample captured in variable X, determined by variable samplesize.\n",
        "\n",
        "3) Plot the histogram of this X random variable showing distribution of A, B and C in our sample.\n"
      ]
    },
    {
      "cell_type": "markdown",
      "metadata": {
        "id": "liV9JuvbguJR"
      },
      "source": [
        ""
      ]
    },
    {
      "cell_type": "code",
      "metadata": {
        "id": "qbpIX6bDgubD",
        "outputId": "cdaf8229-8846-46bd-a1f4-652af5bb8c22",
        "colab": {
          "base_uri": "https://localhost:8080/",
          "height": 448
        }
      },
      "source": [
        "# Set up the baseline assumptions\n",
        "Symbols = (1, 2, 3)\n",
        "P_A = 0.5\n",
        "P_B = 0.4\n",
        "P_C = 0.1\n",
        "\n",
        "samplesize = 1000000\n",
        "\n",
        "# A sample of output signals X\n",
        "parts_probabilities = (P_A, P_B, P_C)\n",
        "parts = rv_discrete(values=(Symbols,parts_probabilities))\n",
        "X = parts.rvs(size=samplesize)\n",
        "\n",
        "\n",
        "numA = 0\n",
        "numB = 0\n",
        "numC = 0\n",
        "for sample in X:\n",
        "  if sample == 1:\n",
        "    numA += 1\n",
        "  elif sample == 2:\n",
        "    numB += 1\n",
        "  else:\n",
        "    numC += 1\n",
        "\n",
        "fig1, ax1 = plt.subplots()\n",
        "ax1.set_title(\"PDF\")\n",
        "ax1.set_xlabel(\"x\")\n",
        "ax1.set_ylabel(\"px(x)\")\n",
        "ax1.hist(X, bins = 25, density=True, histtype='stepfilled', alpha=0.1)\n"
      ],
      "execution_count": 32,
      "outputs": [
        {
          "output_type": "execute_result",
          "data": {
            "text/plain": [
              "(array([6.2401875, 0.       , 0.       , 0.       , 0.       , 0.       ,\n",
              "        0.       , 0.       , 0.       , 0.       , 0.       , 0.       ,\n",
              "        5.0144125, 0.       , 0.       , 0.       , 0.       , 0.       ,\n",
              "        0.       , 0.       , 0.       , 0.       , 0.       , 0.       ,\n",
              "        1.2454   ]),\n",
              " array([1.  , 1.08, 1.16, 1.24, 1.32, 1.4 , 1.48, 1.56, 1.64, 1.72, 1.8 ,\n",
              "        1.88, 1.96, 2.04, 2.12, 2.2 , 2.28, 2.36, 2.44, 2.52, 2.6 , 2.68,\n",
              "        2.76, 2.84, 2.92, 3.  ]),\n",
              " <a list of 1 Patch objects>)"
            ]
          },
          "metadata": {
            "tags": []
          },
          "execution_count": 32
        },
        {
          "output_type": "display_data",
          "data": {
            "image/png": "[encoded data removed]",
            "text/plain": [
              "<Figure size 432x288 with 1 Axes>"
            ]
          },
          "metadata": {
            "tags": [],
            "needs_background": "light"
          }
        }
      ]
    },
    {
      "cell_type": "markdown",
      "metadata": {
        "id": "rFNh16UTdAkh"
      },
      "source": [
        "4) Using the probabilities of defects for A, B, C (0.001, 0.005, 0.01), generate the number of defects from our sample.\n",
        "\n",
        "5) obtain number of functional units by subtracting from the total\n",
        "\n",
        "6) create a new array that is populated with defects as well as functional units\n",
        "\n",
        "7) Calculate the relevant probabilities asked for in the problem by examining the number of defects and functional units in the sample, specific lines of code are identified by comments below.\n",
        "\n",
        "Final results:\n",
        "\n",
        "Probability any component selected is defective:  0.003501\n",
        "\n",
        "Probability a defective component is from A:  0.14253070551271063\n",
        "\n",
        "Probability a defective component is from B:  0.5729791488146244\n",
        "\n",
        "Probability a defective component is from C:  0.2844901456726649"
      ]
    },
    {
      "cell_type": "code",
      "metadata": {
        "id": "SHmDSkgknBGr",
        "outputId": "4d223475-4b81-445a-bd6f-dc7cfdc10d47",
        "colab": {
          "base_uri": "https://localhost:8080/",
          "height": 567
        }
      },
      "source": [
        "defectA = round(numA * .001)\n",
        "defectB = round(numB * .005)\n",
        "defectC = round(numC * .01)\n",
        "\n",
        "funcA = numA - defectA\n",
        "funcB = numB - defectB\n",
        "funcC = numC - defectC\n",
        "\n",
        "a = np.array([])\n",
        "b = np.array([])\n",
        "\n",
        "for sample in range(funcA):\n",
        "  b = np.append(a,1)\n",
        "\n",
        "for sample in range(defectA):\n",
        "  a = np.append(a,-1)\n",
        "\n",
        "for sample in range(funcB):\n",
        "  b = np.append(a,2)\n",
        "\n",
        "for sample in range(defectB):\n",
        "  a = np.append(a,-2)\n",
        "\n",
        "for sample in range(funcC):\n",
        "  b = np.append(a,3)\n",
        "\n",
        "for sample in range(defectC):\n",
        "  a = np.append(a,-3)\n",
        "\n",
        "norm = len(a)\n",
        "\n",
        "prob_dA = defectA/numA\n",
        "prob_dB = defectB/numB\n",
        "prob_dC = defectC/numC\n",
        "\n",
        "defect_total = (defectA + defectB + defectC)/samplesize\n",
        "\n",
        "print(\"Probability a component made by A is defective: \", prob_dA)\n",
        "print(\"Probability a component made by B is defective: \", prob_dB)\n",
        "print(\"Probability a component made by C is defective: \", prob_dC)\n",
        "\n",
        "#part 1 answer\n",
        "print(\"Probability any component selected is defective: \", defect_total)\n",
        "\n",
        "#part 2 answer\n",
        "prob_defect_A = (defectA/defect_total)/samplesize\n",
        "prob_defect_B = (defectB/defect_total)/samplesize\n",
        "prob_defect_C = (defectC/defect_total)/samplesize\n",
        "\n",
        "print(\"Probability a defective component is from A: \", prob_defect_A)\n",
        "print(\"Probability a defective component is from B: \", prob_defect_B)\n",
        "print(\"Probability a defective component is from C: \", prob_defect_C)\n",
        "\n",
        "\n",
        "fig1, ax1 = plt.subplots()\n",
        "ax1.set_title(\"PDF\")\n",
        "ax1.set_xlabel(\"x\")\n",
        "ax1.set_ylabel(\"px(x)\")\n",
        "ax1.hist(a, bins = 25, density=True, histtype='stepfilled', alpha=0.1)"
      ],
      "execution_count": 36,
      "outputs": [
        {
          "output_type": "stream",
          "text": [
            "Probability a component made by A is defective:  0.0009995693238384264\n",
            "Probability a component made by B is defective:  0.005000585811398644\n",
            "Probability a component made by C is defective:  0.009996788180504255\n",
            "Probability any component selected is defective:  0.003501\n",
            "Probability a defective component is from A:  0.14253070551271063\n",
            "Probability a defective component is from B:  0.5729791488146244\n",
            "Probability a defective component is from C:  0.2844901456726649\n"
          ],
          "name": "stdout"
        },
        {
          "output_type": "execute_result",
          "data": {
            "text/plain": [
              "(array([3.55612682, 0.        , 0.        , 0.        , 0.        ,\n",
              "        0.        , 0.        , 0.        , 0.        , 0.        ,\n",
              "        0.        , 0.        , 7.16223936, 0.        , 0.        ,\n",
              "        0.        , 0.        , 0.        , 0.        , 0.        ,\n",
              "        0.        , 0.        , 0.        , 0.        , 1.78163382]),\n",
              " array([-3.  , -2.92, -2.84, -2.76, -2.68, -2.6 , -2.52, -2.44, -2.36,\n",
              "        -2.28, -2.2 , -2.12, -2.04, -1.96, -1.88, -1.8 , -1.72, -1.64,\n",
              "        -1.56, -1.48, -1.4 , -1.32, -1.24, -1.16, -1.08, -1.  ]),\n",
              " <a list of 1 Patch objects>)"
            ]
          },
          "metadata": {
            "tags": []
          },
          "execution_count": 36
        },
        {
          "output_type": "display_data",
          "data": {
            "image/png": "[encoded data removed]",
            "text/plain": [
              "<Figure size 432x288 with 1 Axes>"
            ]
          },
          "metadata": {
            "tags": [],
            "needs_background": "light"
          }
        }
      ]
    },
    {
      "cell_type": "code",
      "metadata": {
        "id": "8pJ3-koiIW07",
        "outputId": "d6fbbbf6-ead4-458f-a5b1-91fb640f0902",
        "colab": {
          "base_uri": "https://localhost:8080/",
          "height": 265
        }
      },
      "source": [
        "X = stats.norm(0,1)\n",
        "Y = stats.norm(0,1)\n",
        "\n",
        "x = np.linspace(-9,9,100)\n",
        "\n",
        "plt.plot(x, X.pdf(x))\n",
        "plt.plot(x, Y.pdf(x))\n",
        "\n",
        "Xsamp = X.rvs(size=10000)\n",
        "Ysamp = Y.rvs(size=10000)\n",
        "\n",
        "xsum = 0\n",
        "ysum = 0\n",
        "for sample in Xsamp:\n",
        "  xsum += sample\n",
        "\n",
        "for sample in Ysamp:\n",
        "  ysum += sample\n",
        "\n"
      ],
      "execution_count": 7,
      "outputs": [
        {
          "output_type": "display_data",
          "data": {
            "image/png": "[encoded data removed]",
            "text/plain": [
              "<Figure size 432x288 with 1 Axes>"
            ]
          },
          "metadata": {
            "tags": [],
            "needs_background": "light"
          }
        }
      ]
    }
  ]
}